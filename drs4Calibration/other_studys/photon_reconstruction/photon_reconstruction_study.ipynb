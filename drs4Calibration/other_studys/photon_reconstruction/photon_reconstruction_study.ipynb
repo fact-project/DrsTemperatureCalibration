{
 "cells": [
  {
   "cell_type": "markdown",
   "metadata": {},
   "source": [
    "Photon reconstruction study"
   ]
  },
  {
   "cell_type": "code",
   "execution_count": 5,
   "metadata": {
    "collapsed": false
   },
   "outputs": [],
   "source": [
    "import numpy as np\n",
    "import pandas as pd\n",
    "import matplotlib.pyplot as plt\n",
    "%matplotlib inline\n",
    "from matplotlib.ticker import MultipleLocator\n",
    "from scipy.interpolate import griddata\n",
    "from tqdm import tqdm\n",
    "\n",
    "import locale\n",
    "# Set to German locale to get comma decimal separater\n",
    "locale.setlocale(locale.LC_ALL, ('de', 'utf-8'))\n",
    "\n",
    "np.random.seed(0)"
   ]
  },
  {
   "cell_type": "code",
   "execution_count": 2,
   "metadata": {
    "collapsed": false
   },
   "outputs": [],
   "source": [
    "mv_to_spe = 0.1\n",
    "time_range_in_ns = np.arange(0, 100, 0.5) # time in ns\n",
    "pulse_pos_in_ns = 25\n",
    "integration_window_len = 30 # slices\n",
    "extraction_window_start = 35 # slice index\n",
    "extraction_window_len = 90 # slices\n",
    "time_extraction_window = time_range_in_ns[extraction_window_start:extraction_window_start+extraction_window_len]"
   ]
  },
  {
   "cell_type": "code",
   "execution_count": 3,
   "metadata": {
    "collapsed": true
   },
   "outputs": [],
   "source": [
    "def fact_pulse_in_mV(x, x0=0):\n",
    "    p = (1.239*(1-1/(1+np.exp(((x-x0)-2.851)/1.063)))*np.exp(-((x-x0)-2.851)/19.173))\n",
    "    p *= 10 # 1 spe (10mV)\n",
    "    return p"
   ]
  },
  {
   "cell_type": "code",
   "execution_count": 6,
   "metadata": {
    "collapsed": false
   },
   "outputs": [
    {
     "data": {
      "image/png": "[encoded data removed]",
      "text/plain": [
       "<matplotlib.figure.Figure at 0x7f7bf3a239e8>"
      ]
     },
     "metadata": {},
     "output_type": "display_data"
    }
   ],
   "source": [
    "orginal_pulse = fact_pulse_in_mV(time_range_in_ns, pulse_pos_in_ns)\n",
    "orginal_pulse_with_noise = orginal_pulse + np.random.normal(0, 1.5, size=len(orginal_pulse))\n",
    "\n",
    "window_pulse = fact_pulse_in_mV(time_extraction_window, pulse_pos_in_ns)\n",
    "\n",
    "maxPos = np.argmax(window_pulse)\n",
    "maxHalf = window_pulse[maxPos] / 2.\n",
    "half_pos = np.where(window_pulse[:maxPos+1] < maxHalf)[0]\n",
    "if len(half_pos):\n",
    "    half_pos = half_pos[-1]\n",
    "else:\n",
    "    half_pos = extraction_window_start\n",
    "    \n",
    "fig, ax1 = plt.subplots()\n",
    "\n",
    "ax2 = ax1.twinx()\n",
    "ax2.set_ylabel('Signal / Spe')\n",
    "ax2.plot(time_range_in_ns, orginal_pulse*mv_to_spe, '.:', color='b')\n",
    "ax2.set_ylim(-1*mv_to_spe, 11*mv_to_spe)\n",
    "\n",
    "ax1.plot(time_range_in_ns, orginal_pulse, '.:', color='b')\n",
    "ax1.set_ylabel('Signal / mV')\n",
    "ax1.set_xlabel('Zeit / ns')\n",
    "ax1.set_ylim(-1, 11)\n",
    "\n",
    "plt.axvline(time_range_in_ns[extraction_window_start], color='brown', lw=2, label=\"Extraktionsfenster\")\n",
    "plt.axvline(time_range_in_ns[extraction_window_start+extraction_window_len], color='brown', lw=2)\n",
    "plt.axvline(time_range_in_ns[extraction_window_start+half_pos], color='g', lw=2, label=\"Halbe Pulshöhe\")\n",
    "\n",
    "helper = np.zeros(len(time_range_in_ns))\n",
    "helper[extraction_window_start+half_pos:extraction_window_start+half_pos+30] = 1\n",
    "\n",
    "plt.fill_between(time_range_in_ns, -5, 5, where=helper == 1, facecolor='orange', alpha=0.5, interpolate=True, label='Integrationsfenster')\n",
    "plt.xlim(0, 100)\n",
    "plt.legend(loc=\"upper right\")\n",
    "# ax1.xaxis.set_minor_locator(MultipleLocator(10))\n",
    "# ax1.yaxis.set_minor_locator(MultipleLocator(1))\n",
    "# ax2.yaxis.set_minor_locator(MultipleLocator(0.1))\n",
    "ax1.tick_params(direction='out', top=False, which='both')\n",
    "ax2.tick_params(direction='out', top=False, which='both')\n",
    "fig.tight_layout()\n",
    "\n",
    "plt.savefig('single_photon_pulse.png', dpi=200)"
   ]
  },
  {
   "cell_type": "code",
   "execution_count": 5,
   "metadata": {
    "collapsed": true
   },
   "outputs": [],
   "source": [
    "def basic_extraction(data):\n",
    "    maxPos = np.argmax(data)\n",
    "    maxHalf = data[maxPos] / 2.\n",
    "    half_pos = np.where(data[:maxPos+1] < maxHalf)[0]\n",
    "    if len(half_pos):\n",
    "        half_pos = half_pos[-1]\n",
    "    else:\n",
    "        half_pos = extraction_window_start\n",
    "    integral = data[half_pos:half_pos+30].sum()\n",
    "    return {\n",
    "        'arrivalTime': time_range_in_ns[extraction_window_start + half_pos],\n",
    "        'integral': integral,\n",
    "    }"
   ]
  },
  {
   "cell_type": "code",
   "execution_count": 6,
   "metadata": {
    "collapsed": false
   },
   "outputs": [],
   "source": [
    "gain = basic_extraction(window_pulse)['integral']\n",
    "true_arrival_time = basic_extraction(window_pulse)['arrivalTime']"
   ]
  },
  {
   "cell_type": "code",
   "execution_count": 7,
   "metadata": {
    "collapsed": true
   },
   "outputs": [],
   "source": [
    "def basic_extraction_normalized(data):\n",
    "    be = basic_extraction(data)\n",
    "    be['integral'] /= gain\n",
    "    be['arrivalTime'] -= true_arrival_time\n",
    "    return be"
   ]
  },
  {
   "cell_type": "code",
   "execution_count": 8,
   "metadata": {
    "collapsed": false
   },
   "outputs": [
    {
     "name": "stderr",
     "output_type": "stream",
     "text": [
      "100%|██████████| 8/8 [00:06<00:00,  1.24it/s]\n"
     ]
    }
   ],
   "source": [
    "df = pd.DataFrame(columns=['noise', 'offset', 'reconstruction_rate']) \n",
    "true_number_of_photons = 1\n",
    "nr_runs = 1000\n",
    "offset_range = np.arange(-2, 2, 0.5)\n",
    "noise_range = np.linspace(1e-7, 4, len(offset_range))  #np.arange(1e-7, 3, 0.2)\n",
    "for offset in tqdm(offset_range):\n",
    "    for noise in noise_range:\n",
    "        value_list = np.zeros(nr_runs)\n",
    "        for i in range(nr_runs):\n",
    "            y = true_number_of_photons * fact_pulse_in_mV(time_extraction_window, pulse_pos_in_ns)\n",
    "            y += offset + np.random.normal(0, noise, size=len(y))\n",
    "            d = basic_extraction_normalized(y)\n",
    "#             if(float(d['integral']) > 1.5):\n",
    "#                 print(d['integral'], d['integral'].round().astype(int), (d['integral'].round().astype(int) == true_number_of_photons))\n",
    "            value_list[i] = (d['integral'].round().astype(int) == true_number_of_photons).astype(int)\n",
    "            #print(d['integral'], d['integral'].round().astype(int), value_list[i])\n",
    "        reconstruction_rate = np.round(value_list.sum()/nr_runs*100, 2)\n",
    "        #print(value_list, sum(value_list))\n",
    "        #print(noise, \": \", reconstruction_rate)\n",
    "        df = df.append({'noise': noise,\n",
    "                        'offset': offset,\n",
    "                        'reconstruction_rate': reconstruction_rate}, \n",
    "                       ignore_index=True)\n",
    "# with pd.HDFStore('1_photon_reconstruction_rate_test.h5') as store:\n",
    "#     store['df'] = df"
   ]
  },
  {
   "cell_type": "code",
   "execution_count": 8,
   "metadata": {
    "collapsed": false,
    "scrolled": true
   },
   "outputs": [
    {
     "name": "stdout",
     "output_type": "stream",
     "text": [
      "true_number_of_photons:  1 , noise:  2.2049917915 , offset:  -0.171262524745 , reconstruction_rate:  99.58\n",
      "true_number_of_photons:  2 , noise:  2.2049917915 , offset:  -0.171262524745 , reconstruction_rate:  99.96\n",
      "true_number_of_photons:  3 , noise:  2.2049917915 , offset:  -0.171262524745 , reconstruction_rate:  100.0\n",
      "true_number_of_photons:  1 , noise:  2.04817937786 , offset:  0.0730133891913 , reconstruction_rate:  99.84\n",
      "true_number_of_photons:  2 , noise:  2.04817937786 , offset:  0.0730133891913 , reconstruction_rate:  99.99\n",
      "true_number_of_photons:  3 , noise:  2.04817937786 , offset:  0.0730133891913 , reconstruction_rate:  100.0\n",
      "true_number_of_photons:  1 , noise:  2.01951906528 , offset:  0.182115850201 , reconstruction_rate:  99.89\n",
      "true_number_of_photons:  2 , noise:  2.01951906528 , offset:  0.182115850201 , reconstruction_rate:  99.99\n",
      "true_number_of_photons:  3 , noise:  2.01951906528 , offset:  0.182115850201 , reconstruction_rate:  100.0\n",
      "true_number_of_photons:  1 , noise:  1.97767098783 , offset:  -0.126335068067 , reconstruction_rate:  99.82\n",
      "true_number_of_photons:  2 , noise:  1.97767098783 , offset:  -0.126335068067 , reconstruction_rate:  99.99\n",
      "true_number_of_photons:  3 , noise:  1.97767098783 , offset:  -0.126335068067 , reconstruction_rate:  100.0\n",
      "true_number_of_photons:  1 , noise:  1.9451592982 , offset:  -0.0173001362963 , reconstruction_rate:  99.88\n",
      "true_number_of_photons:  2 , noise:  1.9451592982 , offset:  -0.0173001362963 , reconstruction_rate:  99.99\n",
      "true_number_of_photons:  3 , noise:  1.9451592982 , offset:  -0.0173001362963 , reconstruction_rate:  100.0\n"
     ]
    }
   ],
   "source": [
    "df = pd.DataFrame(columns=['noise', 'offset', 'reconstruction_rate']) \n",
    "nr_runs = 2000000\n",
    "# pedestal results [mean, std]\n",
    "\n",
    "drs_file =  np.array([[-0.00585571991849, 0.220521859428], # Interval 2\n",
    "                      [-0.00375109082183, 0.201548650104], # Interval 3\n",
    "                      [-0.00374080156656, 0.200934773846]])# Interval 3 after 2016-01-01\n",
    "                     \n",
    "version_0 = np.array([[-0.0171262524745, 0.22049917915],   # Interval 2\n",
    "                      [0.00730133891913, 0.204817937786],  # Interval 3\n",
    "                      [0.0182115850201, 0.201951906528]])  # Interval 3 after 2016-01-01\n",
    "\n",
    "version_1 = np.array([[-0.0126335068067, 0.197767098783],  # Interval 3\n",
    "                      [-0.00173001362963, 0.19451592982]]) # Interval 3 after 2016-01-01\n",
    "\n",
    "#combi = np.append(drs_file, np.append(version_0, version_1, axis=0), axis=0)\n",
    "combi = np.append(version_0, version_1, axis=0)\n",
    "combi /= mv_to_spe\n",
    "for offset, noise in combi:\n",
    "    for true_number_of_photons in [1, 2, 3]:\n",
    "        value_list = np.zeros(nr_runs)\n",
    "        for i in range(nr_runs):\n",
    "            y = true_number_of_photons * fact_pulse_in_mV(time_extraction_window, pulse_pos_in_ns)\n",
    "            y += offset + np.random.normal(0, noise, size=len(y))\n",
    "            d = basic_extraction_normalized(y)\n",
    "            value_list[i] = (d['integral'].round().astype(int) == true_number_of_photons).astype(int)\n",
    "        reconstruction_rate = np.round(value_list.sum()/nr_runs*100, 2)\n",
    "\n",
    "        print('true_number_of_photons: ', true_number_of_photons,\n",
    "              ', noise: ', noise,\n",
    "              ', offset: ', offset,\n",
    "              ', reconstruction_rate: ', reconstruction_rate)\n"
   ]
  },
  {
   "cell_type": "code",
   "execution_count": null,
   "metadata": {
    "collapsed": true
   },
   "outputs": [],
   "source": [
    "df = pd.DataFrame(columns=['noise', 'offset', 'reconstruction_rate']) \n",
    "nr_runs = 2000000\n",
    "# pedestal results [mean, std]\n",
    "\n",
    "drs_file =  np.array([[-0.00585571991849, 0.220521859428], # Interval 2\n",
    "                      [-0.00375109082183, 0.201548650104], # Interval 3\n",
    "                      [-0.00374080156656, 0.200934773846]])# Interval 3 after 2016-01-01\n",
    "                     \n",
    "version_0 = np.array([[-0.0171262524745, 0.22049917915],   # Interval 2\n",
    "                      [0.00730133891913, 0.204817937786],  # Interval 3\n",
    "                      [0.0182115850201, 0.201951906528]])  # Interval 3 after 2016-01-01\n",
    "\n",
    "version_1 = np.array([[-0.0126335068067, 0.197767098783],  # Interval 3\n",
    "                      [-0.00173001362963, 0.19451592982]]) # Interval 3 after 2016-01-01\n",
    "\n",
    "combi = version_1\n",
    "combi /= mv_to_spe\n",
    "for offset, noise in combi:\n",
    "    for true_number_of_photons in [1, 2, 3]:\n",
    "        value_list = np.zeros(nr_runs)\n",
    "        for i in range(nr_runs):\n",
    "            y = true_number_of_photons * fact_pulse_in_mV(time_extraction_window, pulse_pos_in_ns)\n",
    "            y += offset + np.random.normal(0, noise, size=len(y))\n",
    "            d = basic_extraction_normalized(y)\n",
    "            value_list[i] = (d['integral'].round().astype(int) == true_number_of_photons).astype(int)\n",
    "        reconstruction_rate = np.round(value_list.sum()/nr_runs*100, 2)\n",
    "\n",
    "        print('true_number_of_photons: ', true_number_of_photons,\n",
    "              ', noise: ', noise,\n",
    "              ', offset: ', offset,\n",
    "              ', reconstruction_rate: ', reconstruction_rate)\n"
   ]
  }
 ],
 "metadata": {
  "anaconda-cloud": {},
  "kernelspec": {
   "display_name": "Python [Root]",
   "language": "python",
   "name": "Python [Root]"
  },
  "language_info": {
   "codemirror_mode": {
    "name": "ipython",
    "version": 3
   },
   "file_extension": ".py",
   "mimetype": "text/x-python",
   "name": "python",
   "nbconvert_exporter": "python",
   "pygments_lexer": "ipython3",
   "version": "3.5.1"
  }
 },
 "nbformat": 4,
 "nbformat_minor": 2
}
